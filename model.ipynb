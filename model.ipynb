{
 "cells": [
  {
   "cell_type": "code",
   "execution_count": 23,
   "metadata": {},
   "outputs": [],
   "source": [
    "import pandas as pd\n",
    "import numpy as np\n",
    "import matplotlib.pyplot as plt\n",
    "import seaborn as sns\n",
    "from sklearn.model_selection import train_test_split\n",
    "from sklearn.preprocessing import LabelEncoder, StandardScaler\n",
    "from sklearn.linear_model import LogisticRegression\n",
    "from sklearn.ensemble import RandomForestClassifier\n",
    "from xgboost import XGBClassifier \n",
    "from sklearn.metrics import accuracy_score, precision_score, classification_report, confusion_matrix\n",
    "\n",
    "file_path = 'data/UCI_Credit_Card.xls'\n",
    "df = pd.read_excel(file_path)"
   ]
  },
  {
   "cell_type": "code",
   "execution_count": 24,
   "metadata": {},
   "outputs": [
    {
     "name": "stdout",
     "output_type": "stream",
     "text": [
      "\n",
      "Data types and missing values:\n",
      "<class 'pandas.core.frame.DataFrame'>\n",
      "RangeIndex: 30000 entries, 0 to 29999\n",
      "Data columns (total 25 columns):\n",
      " #   Column                      Non-Null Count  Dtype\n",
      "---  ------                      --------------  -----\n",
      " 0   ID                          30000 non-null  int64\n",
      " 1   LIMIT_BAL                   30000 non-null  int64\n",
      " 2   SEX                         30000 non-null  int64\n",
      " 3   EDUCATION                   30000 non-null  int64\n",
      " 4   MARRIAGE                    30000 non-null  int64\n",
      " 5   AGE                         30000 non-null  int64\n",
      " 6   PAY_0                       30000 non-null  int64\n",
      " 7   PAY_2                       30000 non-null  int64\n",
      " 8   PAY_3                       30000 non-null  int64\n",
      " 9   PAY_4                       30000 non-null  int64\n",
      " 10  PAY_5                       30000 non-null  int64\n",
      " 11  PAY_6                       30000 non-null  int64\n",
      " 12  BILL_AMT1                   30000 non-null  int64\n",
      " 13  BILL_AMT2                   30000 non-null  int64\n",
      " 14  BILL_AMT3                   30000 non-null  int64\n",
      " 15  BILL_AMT4                   30000 non-null  int64\n",
      " 16  BILL_AMT5                   30000 non-null  int64\n",
      " 17  BILL_AMT6                   30000 non-null  int64\n",
      " 18  PAY_AMT1                    30000 non-null  int64\n",
      " 19  PAY_AMT2                    30000 non-null  int64\n",
      " 20  PAY_AMT3                    30000 non-null  int64\n",
      " 21  PAY_AMT4                    30000 non-null  int64\n",
      " 22  PAY_AMT5                    30000 non-null  int64\n",
      " 23  PAY_AMT6                    30000 non-null  int64\n",
      " 24  default payment next month  30000 non-null  int64\n",
      "dtypes: int64(25)\n",
      "memory usage: 5.7 MB\n",
      "None\n"
     ]
    }
   ],
   "source": [
    "print(\"\\nData types and missing values:\")\n",
    "print(df.info())\n"
   ]
  },
  {
   "cell_type": "code",
   "execution_count": 25,
   "metadata": {},
   "outputs": [
    {
     "name": "stdout",
     "output_type": "stream",
     "text": [
      "\n",
      "Descriptive statistics:\n",
      "                 ID       LIMIT_BAL           SEX     EDUCATION      MARRIAGE  \\\n",
      "count  30000.000000    30000.000000  30000.000000  30000.000000  30000.000000   \n",
      "mean   15000.500000   167484.322667      1.603733      1.853133      1.551867   \n",
      "std     8660.398374   129747.661567      0.489129      0.790349      0.521970   \n",
      "min        1.000000    10000.000000      1.000000      0.000000      0.000000   \n",
      "25%     7500.750000    50000.000000      1.000000      1.000000      1.000000   \n",
      "50%    15000.500000   140000.000000      2.000000      2.000000      2.000000   \n",
      "75%    22500.250000   240000.000000      2.000000      2.000000      2.000000   \n",
      "max    30000.000000  1000000.000000      2.000000      6.000000      3.000000   \n",
      "\n",
      "                AGE         PAY_0         PAY_2         PAY_3         PAY_4  \\\n",
      "count  30000.000000  30000.000000  30000.000000  30000.000000  30000.000000   \n",
      "mean      35.485500     -0.016700     -0.133767     -0.166200     -0.220667   \n",
      "std        9.217904      1.123802      1.197186      1.196868      1.169139   \n",
      "min       21.000000     -2.000000     -2.000000     -2.000000     -2.000000   \n",
      "25%       28.000000     -1.000000     -1.000000     -1.000000     -1.000000   \n",
      "50%       34.000000      0.000000      0.000000      0.000000      0.000000   \n",
      "75%       41.000000      0.000000      0.000000      0.000000      0.000000   \n",
      "max       79.000000      8.000000      8.000000      8.000000      8.000000   \n",
      "\n",
      "       ...      BILL_AMT4      BILL_AMT5      BILL_AMT6       PAY_AMT1  \\\n",
      "count  ...   30000.000000   30000.000000   30000.000000   30000.000000   \n",
      "mean   ...   43262.948967   40311.400967   38871.760400    5663.580500   \n",
      "std    ...   64332.856134   60797.155770   59554.107537   16563.280354   \n",
      "min    ... -170000.000000  -81334.000000 -339603.000000       0.000000   \n",
      "25%    ...    2326.750000    1763.000000    1256.000000    1000.000000   \n",
      "50%    ...   19052.000000   18104.500000   17071.000000    2100.000000   \n",
      "75%    ...   54506.000000   50190.500000   49198.250000    5006.000000   \n",
      "max    ...  891586.000000  927171.000000  961664.000000  873552.000000   \n",
      "\n",
      "           PAY_AMT2      PAY_AMT3       PAY_AMT4       PAY_AMT5  \\\n",
      "count  3.000000e+04   30000.00000   30000.000000   30000.000000   \n",
      "mean   5.921163e+03    5225.68150    4826.076867    4799.387633   \n",
      "std    2.304087e+04   17606.96147   15666.159744   15278.305679   \n",
      "min    0.000000e+00       0.00000       0.000000       0.000000   \n",
      "25%    8.330000e+02     390.00000     296.000000     252.500000   \n",
      "50%    2.009000e+03    1800.00000    1500.000000    1500.000000   \n",
      "75%    5.000000e+03    4505.00000    4013.250000    4031.500000   \n",
      "max    1.684259e+06  896040.00000  621000.000000  426529.000000   \n",
      "\n",
      "            PAY_AMT6  default payment next month  \n",
      "count   30000.000000                30000.000000  \n",
      "mean     5215.502567                    0.221200  \n",
      "std     17777.465775                    0.415062  \n",
      "min         0.000000                    0.000000  \n",
      "25%       117.750000                    0.000000  \n",
      "50%      1500.000000                    0.000000  \n",
      "75%      4000.000000                    0.000000  \n",
      "max    528666.000000                    1.000000  \n",
      "\n",
      "[8 rows x 25 columns]\n"
     ]
    }
   ],
   "source": [
    "print(\"\\nDescriptive statistics:\")\n",
    "print(df.describe())"
   ]
  },
  {
   "cell_type": "code",
   "execution_count": 26,
   "metadata": {},
   "outputs": [
    {
     "name": "stdout",
     "output_type": "stream",
     "text": [
      "Missing values per column:\n",
      "ID                            0\n",
      "LIMIT_BAL                     0\n",
      "SEX                           0\n",
      "EDUCATION                     0\n",
      "MARRIAGE                      0\n",
      "AGE                           0\n",
      "PAY_0                         0\n",
      "PAY_2                         0\n",
      "PAY_3                         0\n",
      "PAY_4                         0\n",
      "PAY_5                         0\n",
      "PAY_6                         0\n",
      "BILL_AMT1                     0\n",
      "BILL_AMT2                     0\n",
      "BILL_AMT3                     0\n",
      "BILL_AMT4                     0\n",
      "BILL_AMT5                     0\n",
      "BILL_AMT6                     0\n",
      "PAY_AMT1                      0\n",
      "PAY_AMT2                      0\n",
      "PAY_AMT3                      0\n",
      "PAY_AMT4                      0\n",
      "PAY_AMT5                      0\n",
      "PAY_AMT6                      0\n",
      "default payment next month    0\n",
      "dtype: int64\n"
     ]
    }
   ],
   "source": [
    "# Check for missing values\n",
    "print(\"Missing values per column:\")\n",
    "print(df.isnull().sum())"
   ]
  },
  {
   "cell_type": "code",
   "execution_count": 27,
   "metadata": {},
   "outputs": [
    {
     "name": "stdout",
     "output_type": "stream",
     "text": [
      "\n",
      "Number of duplicates: 0\n"
     ]
    }
   ],
   "source": [
    "print(f\"\\nNumber of duplicates: {df.duplicated().sum()}\")"
   ]
  },
  {
   "cell_type": "code",
   "execution_count": 28,
   "metadata": {},
   "outputs": [
    {
     "name": "stdout",
     "output_type": "stream",
     "text": [
      "Counts of each class:\n",
      "default payment next month\n",
      "0    23364\n",
      "1     6636\n",
      "Name: count, dtype: int64\n"
     ]
    }
   ],
   "source": [
    "counts = df['default payment next month'].value_counts()\n",
    "\n",
    "print(\"Counts of each class:\")\n",
    "print(counts)"
   ]
  },
  {
   "cell_type": "code",
   "execution_count": 29,
   "metadata": {},
   "outputs": [
    {
     "name": "stdout",
     "output_type": "stream",
     "text": [
      "\n",
      "Applying One-Hot Encoding to categorical features...\n"
     ]
    }
   ],
   "source": [
    "if 'ID' in df.columns:\n",
    "    df.drop('ID', axis=1, inplace=True)\n",
    "TARGET_COLUMN = 'default payment next month'\n",
    "\n",
    "# Remap EDUCATION and MARRIAGE\n",
    "df['EDUCATION'] = df['EDUCATION'].replace({0: 4, 5: 4, 6: 4})\n",
    "df['MARRIAGE'] = df['MARRIAGE'].replace({0: 3})\n",
    "\n",
    "print(\"\\nApplying One-Hot Encoding to categorical features...\")"
   ]
  },
  {
   "cell_type": "code",
   "execution_count": 30,
   "metadata": {},
   "outputs": [
    {
     "name": "stdout",
     "output_type": "stream",
     "text": [
      "One-Hot Encoded columns: ['SEX', 'EDUCATION', 'MARRIAGE']\n"
     ]
    }
   ],
   "source": [
    "categorical_features = ['SEX', 'EDUCATION', 'MARRIAGE']\n",
    "\n",
    "for col in categorical_features:\n",
    "    if col not in df.columns:\n",
    "        print(f\"Warning: Categorical column '{col}' not found. Skipping One-Hot Encoding for this column.\")\n",
    "        categorical_features.remove(col)\n",
    "\n",
    "if categorical_features:\n",
    "    df = pd.get_dummies(df, columns=categorical_features, drop_first=True)\n",
    "    print(f\"One-Hot Encoded columns: {categorical_features}\")\n",
    "else:\n",
    "    print(\"No specific categorical columns identified for One-Hot Encoding.\")"
   ]
  },
  {
   "cell_type": "code",
   "execution_count": 31,
   "metadata": {},
   "outputs": [
    {
     "name": "stdout",
     "output_type": "stream",
     "text": [
      "\n",
      "Dataset Info after Feature Engineering (One-Hot Encoding):\n",
      "<class 'pandas.core.frame.DataFrame'>\n",
      "RangeIndex: 30000 entries, 0 to 29999\n",
      "Data columns (total 27 columns):\n",
      " #   Column                      Non-Null Count  Dtype\n",
      "---  ------                      --------------  -----\n",
      " 0   LIMIT_BAL                   30000 non-null  int64\n",
      " 1   AGE                         30000 non-null  int64\n",
      " 2   PAY_0                       30000 non-null  int64\n",
      " 3   PAY_2                       30000 non-null  int64\n",
      " 4   PAY_3                       30000 non-null  int64\n",
      " 5   PAY_4                       30000 non-null  int64\n",
      " 6   PAY_5                       30000 non-null  int64\n",
      " 7   PAY_6                       30000 non-null  int64\n",
      " 8   BILL_AMT1                   30000 non-null  int64\n",
      " 9   BILL_AMT2                   30000 non-null  int64\n",
      " 10  BILL_AMT3                   30000 non-null  int64\n",
      " 11  BILL_AMT4                   30000 non-null  int64\n",
      " 12  BILL_AMT5                   30000 non-null  int64\n",
      " 13  BILL_AMT6                   30000 non-null  int64\n",
      " 14  PAY_AMT1                    30000 non-null  int64\n",
      " 15  PAY_AMT2                    30000 non-null  int64\n",
      " 16  PAY_AMT3                    30000 non-null  int64\n",
      " 17  PAY_AMT4                    30000 non-null  int64\n",
      " 18  PAY_AMT5                    30000 non-null  int64\n",
      " 19  PAY_AMT6                    30000 non-null  int64\n",
      " 20  default payment next month  30000 non-null  int64\n",
      " 21  SEX_2                       30000 non-null  bool \n",
      " 22  EDUCATION_2                 30000 non-null  bool \n",
      " 23  EDUCATION_3                 30000 non-null  bool \n",
      " 24  EDUCATION_4                 30000 non-null  bool \n",
      " 25  MARRIAGE_2                  30000 non-null  bool \n",
      " 26  MARRIAGE_3                  30000 non-null  bool \n",
      "dtypes: bool(6), int64(21)\n",
      "memory usage: 5.0 MB\n"
     ]
    }
   ],
   "source": [
    "print(\"\\nDataset Info after Feature Engineering (One-Hot Encoding):\")\n",
    "df.info()\n"
   ]
  },
  {
   "cell_type": "code",
   "execution_count": 32,
   "metadata": {},
   "outputs": [
    {
     "name": "stdout",
     "output_type": "stream",
     "text": [
      "\n",
      "First 5 rows after Feature Engineering:\n",
      "   LIMIT_BAL  AGE  PAY_0  PAY_2  PAY_3  PAY_4  PAY_5  PAY_6  BILL_AMT1  \\\n",
      "0      20000   24      2      2     -1     -1     -2     -2       3913   \n",
      "1     120000   26     -1      2      0      0      0      2       2682   \n",
      "2      90000   34      0      0      0      0      0      0      29239   \n",
      "3      50000   37      0      0      0      0      0      0      46990   \n",
      "4      50000   57     -1      0     -1      0      0      0       8617   \n",
      "\n",
      "   BILL_AMT2  ...  PAY_AMT4  PAY_AMT5  PAY_AMT6  default payment next month  \\\n",
      "0       3102  ...         0         0         0                           1   \n",
      "1       1725  ...      1000         0      2000                           1   \n",
      "2      14027  ...      1000      1000      5000                           0   \n",
      "3      48233  ...      1100      1069      1000                           0   \n",
      "4       5670  ...      9000       689       679                           0   \n",
      "\n",
      "   SEX_2  EDUCATION_2  EDUCATION_3  EDUCATION_4  MARRIAGE_2  MARRIAGE_3  \n",
      "0   True         True        False        False       False       False  \n",
      "1   True         True        False        False        True       False  \n",
      "2   True         True        False        False        True       False  \n",
      "3   True         True        False        False       False       False  \n",
      "4  False         True        False        False       False       False  \n",
      "\n",
      "[5 rows x 27 columns]\n"
     ]
    }
   ],
   "source": [
    "print(\"\\nFirst 5 rows after Feature Engineering:\")\n",
    "print(df.head())"
   ]
  },
  {
   "cell_type": "code",
   "execution_count": 33,
   "metadata": {},
   "outputs": [
    {
     "name": "stdout",
     "output_type": "stream",
     "text": [
      "\n",
      "Calculating Feature Importances using Random Forest...\n"
     ]
    }
   ],
   "source": [
    "# Separate features (X) and target (y)\n",
    "X = df.drop(TARGET_COLUMN, axis=1)\n",
    "y = df[TARGET_COLUMN]\n",
    "\n",
    "# Handle potential issues with column names for consistency with models\n",
    "X.columns = [\"\".join (c if c.isalnum() else \"_\" for c in str(x)) for x in X.columns]\n",
    "\n",
    "# Initialize a Random Forest model for feature importance calculation\n",
    "print(\"\\nCalculating Feature Importances using Random Forest...\")\n",
    "rf_importance_model = RandomForestClassifier(n_estimators=100, random_state=42, n_jobs=-1)"
   ]
  },
  {
   "cell_type": "code",
   "execution_count": 34,
   "metadata": {},
   "outputs": [
    {
     "name": "stdout",
     "output_type": "stream",
     "text": [
      "\n",
      "Top 10 Feature Importances:\n",
      "      feature  importance\n",
      "2       PAY_0    0.098555\n",
      "1         AGE    0.067295\n",
      "8   BILL_AMT1    0.061166\n",
      "0   LIMIT_BAL    0.060042\n",
      "9   BILL_AMT2    0.054428\n",
      "10  BILL_AMT3    0.051692\n",
      "14   PAY_AMT1    0.050829\n",
      "13  BILL_AMT6    0.050319\n",
      "11  BILL_AMT4    0.050010\n",
      "12  BILL_AMT5    0.048886\n",
      "\n",
      "Selected Top 6 Features: ['PAY_0', 'AGE', 'BILL_AMT1', 'LIMIT_BAL', 'BILL_AMT2', 'BILL_AMT3']\n"
     ]
    },
    {
     "data": {
      "image/png": "[encoded data removed]",
      "text/plain": [
       "<Figure size 1200x800 with 1 Axes>"
      ]
     },
     "metadata": {},
     "output_type": "display_data"
    },
    {
     "name": "stdout",
     "output_type": "stream",
     "text": [
      "\n",
      "Using selected features for modeling: ['PAY_0', 'AGE', 'BILL_AMT1', 'LIMIT_BAL', 'BILL_AMT2', 'BILL_AMT3']\n"
     ]
    }
   ],
   "source": [
    "try:\n",
    "    rf_importance_model.fit(X, y)\n",
    "    importances = rf_importance_model.feature_importances_\n",
    "    feature_names = X.columns\n",
    "    feature_importance_df = pd.DataFrame({'feature': feature_names, 'importance': importances})\n",
    "    feature_importance_df = feature_importance_df.sort_values(by='importance', ascending=False)\n",
    "\n",
    "    print(\"\\nTop 10 Feature Importances:\")\n",
    "    print(feature_importance_df.head(10))\n",
    "\n",
    "    # Select the top 5 most important features\n",
    "    top_6_features = feature_importance_df['feature'].head(6).tolist()\n",
    "    print(f\"\\nSelected Top 6 Features: {top_6_features}\")\n",
    "\n",
    "    # Plotting Feature Importance\n",
    "    plt.figure(figsize=(12, 8))\n",
    "    sns.barplot(x='importance', y='feature', data=feature_importance_df.head(15))\n",
    "    plt.xlabel(\"Feature Importance\")\n",
    "    plt.ylabel(\"Feature\")\n",
    "    plt.title(\"Top 15 Feature Importances (Random Forest)\")\n",
    "    plt.tight_layout()\n",
    "    plt.savefig('top_15_feature_importances.png')\n",
    "    plt.show()\n",
    "    plt.close() \n",
    "\n",
    "except Exception as e:\n",
    "    print(f\"Error during Feature Importance calculation: {e}\")\n",
    "    print(\"Please ensure your dataset has enough features and no constant columns after preprocessing.\")\n",
    "    \n",
    "    top_6_features = [] # Fallback\n",
    "\n",
    "if not top_6_features:\n",
    "    print(\"Could not determine top 5 features. Proceeding with all available features for modeling.\")\n",
    "    X_selected = X\n",
    "else:\n",
    "    X_selected = X[top_6_features]\n",
    "    print(f\"\\nUsing selected features for modeling: {top_6_features}\")"
   ]
  },
  {
   "cell_type": "code",
   "execution_count": 35,
   "metadata": {},
   "outputs": [
    {
     "name": "stdout",
     "output_type": "stream",
     "text": [
      "\n",
      "First 5 rows of scaled selected features:\n",
      "      PAY_0       AGE  BILL_AMT1  LIMIT_BAL  BILL_AMT2  BILL_AMT3\n",
      "0  1.794564 -1.246020  -0.642501  -1.136720  -0.647399  -0.667993\n",
      "1 -0.874991 -1.029047  -0.659219  -0.365981  -0.666747  -0.639254\n",
      "2  0.014861 -0.161156  -0.298560  -0.597202  -0.493899  -0.482408\n",
      "3  0.014861  0.164303  -0.057491  -0.905498  -0.013293   0.032846\n",
      "4 -0.874991  2.334029  -0.578618  -0.905498  -0.611318  -0.161189\n"
     ]
    }
   ],
   "source": [
    "scaler = StandardScaler()\n",
    "X_scaled = scaler.fit_transform(X_selected)\n",
    "X_scaled_df = pd.DataFrame(X_scaled, columns=X_selected.columns) # Convert back to DataFrame for consistency\n",
    "\n",
    "print(\"\\nFirst 5 rows of scaled selected features:\")\n",
    "print(X_scaled_df.head())"
   ]
  },
  {
   "cell_type": "code",
   "execution_count": 36,
   "metadata": {},
   "outputs": [
    {
     "name": "stdout",
     "output_type": "stream",
     "text": [
      "\n",
      "Data split into training and testing sets (20% test size).\n",
      "X_train shape: (24000, 6), y_train shape: (24000,)\n",
      "X_test shape: (6000, 6), y_test shape: (6000,)\n"
     ]
    }
   ],
   "source": [
    "# Split the data into training and testing sets using the selected features\n",
    "X_train, X_test, y_train, y_test = train_test_split(X_scaled_df, y, test_size=0.2, random_state=42, stratify=y)\n",
    "print(f\"\\nData split into training and testing sets (20% test size).\")\n",
    "print(f\"X_train shape: {X_train.shape}, y_train shape: {y_train.shape}\")\n",
    "print(f\"X_test shape: {X_test.shape}, y_test shape: {y_test.shape}\")"
   ]
  },
  {
   "cell_type": "code",
   "execution_count": 37,
   "metadata": {},
   "outputs": [
    {
     "name": "stdout",
     "output_type": "stream",
     "text": [
      "\n",
      "Logistic Regression\n",
      "Best Params: {'C': 1, 'class_weight': 'balanced', 'penalty': 'l1'}\n",
      "Classification Report:\n",
      "               precision    recall  f1-score   support\n",
      "\n",
      "           0       0.86      0.70      0.77      4673\n",
      "           1       0.37      0.61      0.46      1327\n",
      "\n",
      "    accuracy                           0.68      6000\n",
      "   macro avg       0.61      0.66      0.62      6000\n",
      "weighted avg       0.75      0.68      0.70      6000\n",
      "\n",
      "\n",
      "Random Forest\n",
      "Best Params: {'class_weight': 'balanced', 'max_depth': 10, 'n_estimators': 300}\n",
      "Classification Report:\n",
      "               precision    recall  f1-score   support\n",
      "\n",
      "           0       0.87      0.83      0.85      4673\n",
      "           1       0.48      0.55      0.51      1327\n",
      "\n",
      "    accuracy                           0.77      6000\n",
      "   macro avg       0.67      0.69      0.68      6000\n",
      "weighted avg       0.78      0.77      0.77      6000\n",
      "\n",
      "\n",
      "XGBoost\n",
      "Best Params: {'learning_rate': 0.01, 'max_depth': 6, 'n_estimators': 300, 'scale_pos_weight': 3}\n",
      "Classification Report:\n",
      "               precision    recall  f1-score   support\n",
      "\n",
      "           0       0.86      0.84      0.85      4673\n",
      "           1       0.48      0.54      0.51      1327\n",
      "\n",
      "    accuracy                           0.77      6000\n",
      "   macro avg       0.67      0.69      0.68      6000\n",
      "weighted avg       0.78      0.77      0.77      6000\n",
      "\n",
      "\n",
      "--- Model Comparison ---\n",
      "\n",
      "                     Accuracy  Precision    Recall  F1 Score   ROC AUC\n",
      "Logistic Regression  0.679167   0.365558  0.612660  0.457899  0.694928\n",
      "Random Forest        0.766333   0.475410  0.546345  0.508415  0.757453\n",
      "XGBoost              0.769167   0.480458  0.537302  0.507293  0.757596\n"
     ]
    }
   ],
   "source": [
    "from sklearn.model_selection import GridSearchCV, StratifiedKFold\n",
    "from sklearn.metrics import (\n",
    "    accuracy_score, precision_score, recall_score, f1_score,\n",
    "    roc_auc_score, classification_report\n",
    ")\n",
    "from sklearn.linear_model import LogisticRegression\n",
    "from sklearn.ensemble import RandomForestClassifier\n",
    "from xgboost import XGBClassifier\n",
    "import pandas as pd\n",
    "\n",
    "cv = StratifiedKFold(n_splits=3, shuffle=True, random_state=42)\n",
    "\n",
    "models = {\n",
    "    'Logistic Regression': {\n",
    "        'model': LogisticRegression(solver='liblinear', random_state=42),\n",
    "        'params': {\n",
    "            'C': [0.1, 1],\n",
    "            'penalty': ['l1', 'l2'],\n",
    "            'class_weight': ['balanced']\n",
    "        }\n",
    "    },\n",
    "    'Random Forest': {\n",
    "        'model': RandomForestClassifier(random_state=42, n_jobs=-1),\n",
    "        'params': {\n",
    "            'n_estimators': [100, 300],\n",
    "            'max_depth': [10, None],\n",
    "            'class_weight': ['balanced']\n",
    "        }\n",
    "    },\n",
    "    'XGBoost': {\n",
    "        'model': XGBClassifier(use_label_encoder=False, eval_metric='logloss', random_state=42, n_jobs=-1),\n",
    "        'params': {\n",
    "            'learning_rate': [0.01, 0.1],\n",
    "            'n_estimators': [100, 300],\n",
    "            'max_depth': [3, 6],\n",
    "            'scale_pos_weight': [1, 3]\n",
    "        }\n",
    "    }\n",
    "}\n",
    "\n",
    "results = {}\n",
    "\n",
    "for name, cfg in models.items():\n",
    "    grid = GridSearchCV(cfg['model'], cfg['params'], cv=cv, scoring='f1', n_jobs=-1)\n",
    "    grid.fit(X_train, y_train)\n",
    "    best_model = grid.best_estimator_\n",
    "    y_pred = best_model.predict(X_test)\n",
    "    y_proba = best_model.predict_proba(X_test)[:, 1]\n",
    "\n",
    "    results[name] = {\n",
    "        'Accuracy': accuracy_score(y_test, y_pred),\n",
    "        'Precision': precision_score(y_test, y_pred),\n",
    "        'Recall': recall_score(y_test, y_pred),\n",
    "        'F1 Score': f1_score(y_test, y_pred),\n",
    "        'ROC AUC': roc_auc_score(y_test, y_proba)\n",
    "    }\n",
    "\n",
    "    print(f\"\\n{name}\")\n",
    "    print(\"Best Params:\", grid.best_params_)\n",
    "    print(\"Classification Report:\\n\", classification_report(y_test, y_pred))\n",
    "\n",
    "# Comparison table\n",
    "results_df = pd.DataFrame(results).T\n",
    "print(\"\\n--- Model Comparison ---\\n\")\n",
    "print(results_df)\n"
   ]
  },
  {
   "cell_type": "code",
   "execution_count": 38,
   "metadata": {},
   "outputs": [
    {
     "name": "stdout",
     "output_type": "stream",
     "text": [
      "Model and preprocessing objects saved successfully\n"
     ]
    }
   ],
   "source": [
    "import pickle\n",
    "import os\n",
    "from sklearn.preprocessing import StandardScaler\n",
    "\n",
    "# Save the XGBoost model\n",
    "os.makedirs('saved_models', exist_ok=True)\n",
    "with open('saved_models/xgboost_model.pkl', 'wb') as f:\n",
    "    pickle.dump(models['XGBoost'], f)\n",
    "\n",
    "# Save the scaler\n",
    "with open('saved_models/scaler.pkl', 'wb') as f:\n",
    "    pickle.dump(scaler, f)\n",
    "\n",
    "# Save the top features list\n",
    "top_features = ['PAY_0', 'AGE', 'BILL_AMT1', 'LIMIT_BAL', 'BILL_AMT2', 'MARRIAGE_2', 'MARRIAGE_3']\n",
    "with open('saved_models/top_features.pkl', 'wb') as f:\n",
    "    pickle.dump(top_features, f)\n",
    "\n",
    "print(\"Model and preprocessing objects saved successfully\")"
   ]
  },
  {
   "cell_type": "code",
   "execution_count": null,
   "metadata": {},
   "outputs": [],
   "source": []
  },
  {
   "cell_type": "code",
   "execution_count": null,
   "metadata": {},
   "outputs": [],
   "source": []
  },
  {
   "cell_type": "code",
   "execution_count": null,
   "metadata": {},
   "outputs": [],
   "source": []
  }
 ],
 "metadata": {
  "kernelspec": {
   "display_name": "Python 3",
   "language": "python",
   "name": "python3"
  },
  "language_info": {
   "codemirror_mode": {
    "name": "ipython",
    "version": 3
   },
   "file_extension": ".py",
   "mimetype": "text/x-python",
   "name": "python",
   "nbconvert_exporter": "python",
   "pygments_lexer": "ipython3",
   "version": "3.12.1"
  }
 },
 "nbformat": 4,
 "nbformat_minor": 2
}
